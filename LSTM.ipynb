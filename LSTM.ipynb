{
  "cells": [
    {
      "cell_type": "markdown",
      "source": [
        "# 1. Read Data"
      ],
      "metadata": {
        "id": "EDvMlkLEqZFf"
      }
    },
    {
      "cell_type": "code",
      "execution_count": null,
      "metadata": {
        "id": "ZMjPBGi8WQc_"
      },
      "outputs": [],
      "source": [
        "import pandas as pd\n",
        "import re"
      ]
    },
    {
      "cell_type": "code",
      "execution_count": null,
      "metadata": {
        "id": "EPSmbFtT2egC"
      },
      "outputs": [],
      "source": [
        "train = pd.read_csv(\"raw_data\\\\fulltrain.csv\", header=None)\n",
        "test = pd.read_csv(\"raw_data\\\\balancedtest.csv\", header=None)"
      ]
    },
    {
      "cell_type": "code",
      "execution_count": null,
      "metadata": {
        "id": "L1pXU76aqRwr",
        "outputId": "82074d7f-6159-4a4e-ec6b-f4923c0f4335"
      },
      "outputs": [
        {
          "data": {
            "text/html": [
              "<div>\n",
              "<style scoped>\n",
              "    .dataframe tbody tr th:only-of-type {\n",
              "        vertical-align: middle;\n",
              "    }\n",
              "\n",
              "    .dataframe tbody tr th {\n",
              "        vertical-align: top;\n",
              "    }\n",
              "\n",
              "    .dataframe thead th {\n",
              "        text-align: right;\n",
              "    }\n",
              "</style>\n",
              "<table border=\"1\" class=\"dataframe\">\n",
              "  <thead>\n",
              "    <tr style=\"text-align: right;\">\n",
              "      <th></th>\n",
              "      <th>0</th>\n",
              "      <th>1</th>\n",
              "    </tr>\n",
              "  </thead>\n",
              "  <tbody>\n",
              "    <tr>\n",
              "      <th>0</th>\n",
              "      <td>1</td>\n",
              "      <td>A little less than a decade ago, hockey fans w...</td>\n",
              "    </tr>\n",
              "    <tr>\n",
              "      <th>1</th>\n",
              "      <td>1</td>\n",
              "      <td>The writers of the HBO series The Sopranos too...</td>\n",
              "    </tr>\n",
              "    <tr>\n",
              "      <th>2</th>\n",
              "      <td>1</td>\n",
              "      <td>Despite claims from the TV news outlet to offe...</td>\n",
              "    </tr>\n",
              "    <tr>\n",
              "      <th>3</th>\n",
              "      <td>1</td>\n",
              "      <td>After receiving 'subpar' service and experienc...</td>\n",
              "    </tr>\n",
              "    <tr>\n",
              "      <th>4</th>\n",
              "      <td>1</td>\n",
              "      <td>After watching his beloved Seattle Mariners pr...</td>\n",
              "    </tr>\n",
              "    <tr>\n",
              "      <th>...</th>\n",
              "      <td>...</td>\n",
              "      <td>...</td>\n",
              "    </tr>\n",
              "    <tr>\n",
              "      <th>48849</th>\n",
              "      <td>4</td>\n",
              "      <td>The ruling Kuomintang (KMT) has claimed owners...</td>\n",
              "    </tr>\n",
              "    <tr>\n",
              "      <th>48850</th>\n",
              "      <td>4</td>\n",
              "      <td>The Taipei city government has encouraged the ...</td>\n",
              "    </tr>\n",
              "    <tr>\n",
              "      <th>48851</th>\n",
              "      <td>4</td>\n",
              "      <td>President Ma Ying-jeou said Friday that a park...</td>\n",
              "    </tr>\n",
              "    <tr>\n",
              "      <th>48852</th>\n",
              "      <td>4</td>\n",
              "      <td>The families of the four people who were kille...</td>\n",
              "    </tr>\n",
              "    <tr>\n",
              "      <th>48853</th>\n",
              "      <td>4</td>\n",
              "      <td>The Ministry of Finance will make public on Sa...</td>\n",
              "    </tr>\n",
              "  </tbody>\n",
              "</table>\n",
              "<p>48854 rows × 2 columns</p>\n",
              "</div>"
            ],
            "text/plain": [
              "       0                                                  1\n",
              "0      1  A little less than a decade ago, hockey fans w...\n",
              "1      1  The writers of the HBO series The Sopranos too...\n",
              "2      1  Despite claims from the TV news outlet to offe...\n",
              "3      1  After receiving 'subpar' service and experienc...\n",
              "4      1  After watching his beloved Seattle Mariners pr...\n",
              "...   ..                                                ...\n",
              "48849  4  The ruling Kuomintang (KMT) has claimed owners...\n",
              "48850  4  The Taipei city government has encouraged the ...\n",
              "48851  4  President Ma Ying-jeou said Friday that a park...\n",
              "48852  4  The families of the four people who were kille...\n",
              "48853  4  The Ministry of Finance will make public on Sa...\n",
              "\n",
              "[48854 rows x 2 columns]"
            ]
          },
          "execution_count": 3,
          "metadata": {},
          "output_type": "execute_result"
        }
      ],
      "source": [
        "train"
      ]
    },
    {
      "cell_type": "code",
      "execution_count": null,
      "metadata": {
        "id": "zB6zanRMqRws",
        "outputId": "c28add4e-4f63-47bf-8c66-cfcea509b19c"
      },
      "outputs": [
        {
          "data": {
            "text/html": [
              "<div>\n",
              "<style scoped>\n",
              "    .dataframe tbody tr th:only-of-type {\n",
              "        vertical-align: middle;\n",
              "    }\n",
              "\n",
              "    .dataframe tbody tr th {\n",
              "        vertical-align: top;\n",
              "    }\n",
              "\n",
              "    .dataframe thead th {\n",
              "        text-align: right;\n",
              "    }\n",
              "</style>\n",
              "<table border=\"1\" class=\"dataframe\">\n",
              "  <thead>\n",
              "    <tr style=\"text-align: right;\">\n",
              "      <th></th>\n",
              "      <th>0</th>\n",
              "      <th>1</th>\n",
              "    </tr>\n",
              "  </thead>\n",
              "  <tbody>\n",
              "    <tr>\n",
              "      <th>0</th>\n",
              "      <td>1</td>\n",
              "      <td>When so many actors seem content to churn out ...</td>\n",
              "    </tr>\n",
              "    <tr>\n",
              "      <th>1</th>\n",
              "      <td>1</td>\n",
              "      <td>In what football insiders are calling an unex...</td>\n",
              "    </tr>\n",
              "    <tr>\n",
              "      <th>2</th>\n",
              "      <td>1</td>\n",
              "      <td>In a freak accident following Game 3 of the N....</td>\n",
              "    </tr>\n",
              "    <tr>\n",
              "      <th>3</th>\n",
              "      <td>1</td>\n",
              "      <td>North Koreas official news agency announced to...</td>\n",
              "    </tr>\n",
              "    <tr>\n",
              "      <th>4</th>\n",
              "      <td>1</td>\n",
              "      <td>The former Alaska Governor Sarah Palin would b...</td>\n",
              "    </tr>\n",
              "    <tr>\n",
              "      <th>...</th>\n",
              "      <td>...</td>\n",
              "      <td>...</td>\n",
              "    </tr>\n",
              "    <tr>\n",
              "      <th>2995</th>\n",
              "      <td>4</td>\n",
              "      <td>The Air Force mistakenly gave rival companies ...</td>\n",
              "    </tr>\n",
              "    <tr>\n",
              "      <th>2996</th>\n",
              "      <td>4</td>\n",
              "      <td>The United Nations climate chief on Friday cha...</td>\n",
              "    </tr>\n",
              "    <tr>\n",
              "      <th>2997</th>\n",
              "      <td>4</td>\n",
              "      <td>River Plate midfielder Diego Buonanotte has un...</td>\n",
              "    </tr>\n",
              "    <tr>\n",
              "      <th>2998</th>\n",
              "      <td>4</td>\n",
              "      <td>Lawmakers were on the brink Tuesday of exempti...</td>\n",
              "    </tr>\n",
              "    <tr>\n",
              "      <th>2999</th>\n",
              "      <td>4</td>\n",
              "      <td>The Pentagon, which is processing bids on a ne...</td>\n",
              "    </tr>\n",
              "  </tbody>\n",
              "</table>\n",
              "<p>3000 rows × 2 columns</p>\n",
              "</div>"
            ],
            "text/plain": [
              "      0                                                  1\n",
              "0     1  When so many actors seem content to churn out ...\n",
              "1     1   In what football insiders are calling an unex...\n",
              "2     1  In a freak accident following Game 3 of the N....\n",
              "3     1  North Koreas official news agency announced to...\n",
              "4     1  The former Alaska Governor Sarah Palin would b...\n",
              "...  ..                                                ...\n",
              "2995  4  The Air Force mistakenly gave rival companies ...\n",
              "2996  4  The United Nations climate chief on Friday cha...\n",
              "2997  4  River Plate midfielder Diego Buonanotte has un...\n",
              "2998  4  Lawmakers were on the brink Tuesday of exempti...\n",
              "2999  4  The Pentagon, which is processing bids on a ne...\n",
              "\n",
              "[3000 rows x 2 columns]"
            ]
          },
          "execution_count": 4,
          "metadata": {},
          "output_type": "execute_result"
        }
      ],
      "source": [
        "test"
      ]
    },
    {
      "cell_type": "markdown",
      "metadata": {
        "id": "zbQ7wMzuZI-9"
      },
      "source": [
        "## 2. Obtain the basic features"
      ]
    },
    {
      "cell_type": "code",
      "execution_count": null,
      "metadata": {
        "id": "iQeLy5XpqRwv"
      },
      "outputs": [],
      "source": [
        "#Change columns name\n",
        "train.columns = ['Verdict','Text']"
      ]
    },
    {
      "cell_type": "code",
      "execution_count": null,
      "metadata": {
        "colab": {
          "base_uri": "https://localhost:8080/",
          "height": 363
        },
        "id": "g82aD1D0WPe1",
        "outputId": "a8257911-1253-424d-ab61-f0b32e296feb"
      },
      "outputs": [
        {
          "data": {
            "text/html": [
              "<div>\n",
              "<style scoped>\n",
              "    .dataframe tbody tr th:only-of-type {\n",
              "        vertical-align: middle;\n",
              "    }\n",
              "\n",
              "    .dataframe tbody tr th {\n",
              "        vertical-align: top;\n",
              "    }\n",
              "\n",
              "    .dataframe thead th {\n",
              "        text-align: right;\n",
              "    }\n",
              "</style>\n",
              "<table border=\"1\" class=\"dataframe\">\n",
              "  <thead>\n",
              "    <tr style=\"text-align: right;\">\n",
              "      <th></th>\n",
              "      <th>Verdict</th>\n",
              "      <th>Text</th>\n",
              "    </tr>\n",
              "  </thead>\n",
              "  <tbody>\n",
              "    <tr>\n",
              "      <th>0</th>\n",
              "      <td>1</td>\n",
              "      <td>A little less than a decade ago, hockey fans w...</td>\n",
              "    </tr>\n",
              "    <tr>\n",
              "      <th>1</th>\n",
              "      <td>1</td>\n",
              "      <td>The writers of the HBO series The Sopranos too...</td>\n",
              "    </tr>\n",
              "    <tr>\n",
              "      <th>2</th>\n",
              "      <td>1</td>\n",
              "      <td>Despite claims from the TV news outlet to offe...</td>\n",
              "    </tr>\n",
              "    <tr>\n",
              "      <th>3</th>\n",
              "      <td>1</td>\n",
              "      <td>After receiving 'subpar' service and experienc...</td>\n",
              "    </tr>\n",
              "    <tr>\n",
              "      <th>4</th>\n",
              "      <td>1</td>\n",
              "      <td>After watching his beloved Seattle Mariners pr...</td>\n",
              "    </tr>\n",
              "    <tr>\n",
              "      <th>...</th>\n",
              "      <td>...</td>\n",
              "      <td>...</td>\n",
              "    </tr>\n",
              "    <tr>\n",
              "      <th>48849</th>\n",
              "      <td>4</td>\n",
              "      <td>The ruling Kuomintang (KMT) has claimed owners...</td>\n",
              "    </tr>\n",
              "    <tr>\n",
              "      <th>48850</th>\n",
              "      <td>4</td>\n",
              "      <td>The Taipei city government has encouraged the ...</td>\n",
              "    </tr>\n",
              "    <tr>\n",
              "      <th>48851</th>\n",
              "      <td>4</td>\n",
              "      <td>President Ma Ying-jeou said Friday that a park...</td>\n",
              "    </tr>\n",
              "    <tr>\n",
              "      <th>48852</th>\n",
              "      <td>4</td>\n",
              "      <td>The families of the four people who were kille...</td>\n",
              "    </tr>\n",
              "    <tr>\n",
              "      <th>48853</th>\n",
              "      <td>4</td>\n",
              "      <td>The Ministry of Finance will make public on Sa...</td>\n",
              "    </tr>\n",
              "  </tbody>\n",
              "</table>\n",
              "<p>48854 rows × 2 columns</p>\n",
              "</div>"
            ],
            "text/plain": [
              "       Verdict                                               Text\n",
              "0            1  A little less than a decade ago, hockey fans w...\n",
              "1            1  The writers of the HBO series The Sopranos too...\n",
              "2            1  Despite claims from the TV news outlet to offe...\n",
              "3            1  After receiving 'subpar' service and experienc...\n",
              "4            1  After watching his beloved Seattle Mariners pr...\n",
              "...        ...                                                ...\n",
              "48849        4  The ruling Kuomintang (KMT) has claimed owners...\n",
              "48850        4  The Taipei city government has encouraged the ...\n",
              "48851        4  President Ma Ying-jeou said Friday that a park...\n",
              "48852        4  The families of the four people who were kille...\n",
              "48853        4  The Ministry of Finance will make public on Sa...\n",
              "\n",
              "[48854 rows x 2 columns]"
            ]
          },
          "execution_count": 6,
          "metadata": {},
          "output_type": "execute_result"
        }
      ],
      "source": [
        "train"
      ]
    },
    {
      "cell_type": "code",
      "execution_count": null,
      "metadata": {
        "id": "mBbnfrg9qRwx",
        "outputId": "aaeef1fc-e8f3-4e1f-93e1-27202651921a"
      },
      "outputs": [
        {
          "data": {
            "text/html": [
              "<div>\n",
              "<style scoped>\n",
              "    .dataframe tbody tr th:only-of-type {\n",
              "        vertical-align: middle;\n",
              "    }\n",
              "\n",
              "    .dataframe tbody tr th {\n",
              "        vertical-align: top;\n",
              "    }\n",
              "\n",
              "    .dataframe thead th {\n",
              "        text-align: right;\n",
              "    }\n",
              "</style>\n",
              "<table border=\"1\" class=\"dataframe\">\n",
              "  <thead>\n",
              "    <tr style=\"text-align: right;\">\n",
              "      <th></th>\n",
              "      <th>0</th>\n",
              "      <th>1</th>\n",
              "    </tr>\n",
              "  </thead>\n",
              "  <tbody>\n",
              "    <tr>\n",
              "      <th>0</th>\n",
              "      <td>1</td>\n",
              "      <td>When so many actors seem content to churn out ...</td>\n",
              "    </tr>\n",
              "    <tr>\n",
              "      <th>1</th>\n",
              "      <td>1</td>\n",
              "      <td>In what football insiders are calling an unex...</td>\n",
              "    </tr>\n",
              "    <tr>\n",
              "      <th>2</th>\n",
              "      <td>1</td>\n",
              "      <td>In a freak accident following Game 3 of the N....</td>\n",
              "    </tr>\n",
              "    <tr>\n",
              "      <th>3</th>\n",
              "      <td>1</td>\n",
              "      <td>North Koreas official news agency announced to...</td>\n",
              "    </tr>\n",
              "    <tr>\n",
              "      <th>4</th>\n",
              "      <td>1</td>\n",
              "      <td>The former Alaska Governor Sarah Palin would b...</td>\n",
              "    </tr>\n",
              "    <tr>\n",
              "      <th>...</th>\n",
              "      <td>...</td>\n",
              "      <td>...</td>\n",
              "    </tr>\n",
              "    <tr>\n",
              "      <th>2995</th>\n",
              "      <td>4</td>\n",
              "      <td>The Air Force mistakenly gave rival companies ...</td>\n",
              "    </tr>\n",
              "    <tr>\n",
              "      <th>2996</th>\n",
              "      <td>4</td>\n",
              "      <td>The United Nations climate chief on Friday cha...</td>\n",
              "    </tr>\n",
              "    <tr>\n",
              "      <th>2997</th>\n",
              "      <td>4</td>\n",
              "      <td>River Plate midfielder Diego Buonanotte has un...</td>\n",
              "    </tr>\n",
              "    <tr>\n",
              "      <th>2998</th>\n",
              "      <td>4</td>\n",
              "      <td>Lawmakers were on the brink Tuesday of exempti...</td>\n",
              "    </tr>\n",
              "    <tr>\n",
              "      <th>2999</th>\n",
              "      <td>4</td>\n",
              "      <td>The Pentagon, which is processing bids on a ne...</td>\n",
              "    </tr>\n",
              "  </tbody>\n",
              "</table>\n",
              "<p>3000 rows × 2 columns</p>\n",
              "</div>"
            ],
            "text/plain": [
              "      0                                                  1\n",
              "0     1  When so many actors seem content to churn out ...\n",
              "1     1   In what football insiders are calling an unex...\n",
              "2     1  In a freak accident following Game 3 of the N....\n",
              "3     1  North Koreas official news agency announced to...\n",
              "4     1  The former Alaska Governor Sarah Palin would b...\n",
              "...  ..                                                ...\n",
              "2995  4  The Air Force mistakenly gave rival companies ...\n",
              "2996  4  The United Nations climate chief on Friday cha...\n",
              "2997  4  River Plate midfielder Diego Buonanotte has un...\n",
              "2998  4  Lawmakers were on the brink Tuesday of exempti...\n",
              "2999  4  The Pentagon, which is processing bids on a ne...\n",
              "\n",
              "[3000 rows x 2 columns]"
            ]
          },
          "execution_count": 7,
          "metadata": {},
          "output_type": "execute_result"
        }
      ],
      "source": [
        "test"
      ]
    },
    {
      "cell_type": "code",
      "execution_count": null,
      "metadata": {
        "colab": {
          "base_uri": "https://localhost:8080/",
          "height": 363
        },
        "id": "6UZJj_6PSE0i",
        "outputId": "680696e5-47c9-4cf0-bbc3-4d5aa34dccc1"
      },
      "outputs": [
        {
          "data": {
            "text/html": [
              "<div>\n",
              "<style scoped>\n",
              "    .dataframe tbody tr th:only-of-type {\n",
              "        vertical-align: middle;\n",
              "    }\n",
              "\n",
              "    .dataframe tbody tr th {\n",
              "        vertical-align: top;\n",
              "    }\n",
              "\n",
              "    .dataframe thead th {\n",
              "        text-align: right;\n",
              "    }\n",
              "</style>\n",
              "<table border=\"1\" class=\"dataframe\">\n",
              "  <thead>\n",
              "    <tr style=\"text-align: right;\">\n",
              "      <th></th>\n",
              "      <th>0</th>\n",
              "      <th>1</th>\n",
              "    </tr>\n",
              "  </thead>\n",
              "  <tbody>\n",
              "    <tr>\n",
              "      <th>0</th>\n",
              "      <td>1</td>\n",
              "      <td>When so many actors seem content to churn out ...</td>\n",
              "    </tr>\n",
              "    <tr>\n",
              "      <th>1</th>\n",
              "      <td>1</td>\n",
              "      <td>In what football insiders are calling an unex...</td>\n",
              "    </tr>\n",
              "    <tr>\n",
              "      <th>2</th>\n",
              "      <td>1</td>\n",
              "      <td>In a freak accident following Game 3 of the N....</td>\n",
              "    </tr>\n",
              "    <tr>\n",
              "      <th>3</th>\n",
              "      <td>1</td>\n",
              "      <td>North Koreas official news agency announced to...</td>\n",
              "    </tr>\n",
              "    <tr>\n",
              "      <th>4</th>\n",
              "      <td>1</td>\n",
              "      <td>The former Alaska Governor Sarah Palin would b...</td>\n",
              "    </tr>\n",
              "    <tr>\n",
              "      <th>5</th>\n",
              "      <td>1</td>\n",
              "      <td>With the first Presidential debate just two da...</td>\n",
              "    </tr>\n",
              "    <tr>\n",
              "      <th>6</th>\n",
              "      <td>1</td>\n",
              "      <td>There are fans, and then there are super-fans....</td>\n",
              "    </tr>\n",
              "    <tr>\n",
              "      <th>7</th>\n",
              "      <td>1</td>\n",
              "      <td>With its landmark decisions this week, the Uni...</td>\n",
              "    </tr>\n",
              "    <tr>\n",
              "      <th>8</th>\n",
              "      <td>1</td>\n",
              "      <td>Koch Industries is defending its acquisition o...</td>\n",
              "    </tr>\n",
              "    <tr>\n",
              "      <th>9</th>\n",
              "      <td>1</td>\n",
              "      <td>Republican lawmakers asked increasingly tough ...</td>\n",
              "    </tr>\n",
              "  </tbody>\n",
              "</table>\n",
              "</div>"
            ],
            "text/plain": [
              "   0                                                  1\n",
              "0  1  When so many actors seem content to churn out ...\n",
              "1  1   In what football insiders are calling an unex...\n",
              "2  1  In a freak accident following Game 3 of the N....\n",
              "3  1  North Koreas official news agency announced to...\n",
              "4  1  The former Alaska Governor Sarah Palin would b...\n",
              "5  1  With the first Presidential debate just two da...\n",
              "6  1  There are fans, and then there are super-fans....\n",
              "7  1  With its landmark decisions this week, the Uni...\n",
              "8  1  Koch Industries is defending its acquisition o...\n",
              "9  1  Republican lawmakers asked increasingly tough ..."
            ]
          },
          "execution_count": 8,
          "metadata": {},
          "output_type": "execute_result"
        }
      ],
      "source": [
        "#Check the first 10 lines\n",
        "test.head(10)"
      ]
    },
    {
      "cell_type": "code",
      "execution_count": null,
      "metadata": {
        "id": "q4mK882eSN3N"
      },
      "outputs": [],
      "source": [
        "#Change columns name\n",
        "test.columns = ['Verdict','Text']"
      ]
    },
    {
      "cell_type": "code",
      "execution_count": null,
      "metadata": {
        "colab": {
          "base_uri": "https://localhost:8080/",
          "height": 206
        },
        "id": "jxBVZJ4AWsXq",
        "outputId": "d9ae79cd-1597-465f-a9a1-b234d22ca55f"
      },
      "outputs": [
        {
          "data": {
            "text/html": [
              "<div>\n",
              "<style scoped>\n",
              "    .dataframe tbody tr th:only-of-type {\n",
              "        vertical-align: middle;\n",
              "    }\n",
              "\n",
              "    .dataframe tbody tr th {\n",
              "        vertical-align: top;\n",
              "    }\n",
              "\n",
              "    .dataframe thead th {\n",
              "        text-align: right;\n",
              "    }\n",
              "</style>\n",
              "<table border=\"1\" class=\"dataframe\">\n",
              "  <thead>\n",
              "    <tr style=\"text-align: right;\">\n",
              "      <th></th>\n",
              "      <th>Text</th>\n",
              "      <th>word_count</th>\n",
              "    </tr>\n",
              "  </thead>\n",
              "  <tbody>\n",
              "    <tr>\n",
              "      <th>0</th>\n",
              "      <td>A little less than a decade ago, hockey fans w...</td>\n",
              "      <td>147</td>\n",
              "    </tr>\n",
              "    <tr>\n",
              "      <th>1</th>\n",
              "      <td>The writers of the HBO series The Sopranos too...</td>\n",
              "      <td>123</td>\n",
              "    </tr>\n",
              "    <tr>\n",
              "      <th>2</th>\n",
              "      <td>Despite claims from the TV news outlet to offe...</td>\n",
              "      <td>706</td>\n",
              "    </tr>\n",
              "    <tr>\n",
              "      <th>3</th>\n",
              "      <td>After receiving 'subpar' service and experienc...</td>\n",
              "      <td>706</td>\n",
              "    </tr>\n",
              "    <tr>\n",
              "      <th>4</th>\n",
              "      <td>After watching his beloved Seattle Mariners pr...</td>\n",
              "      <td>174</td>\n",
              "    </tr>\n",
              "  </tbody>\n",
              "</table>\n",
              "</div>"
            ],
            "text/plain": [
              "                                                Text  word_count\n",
              "0  A little less than a decade ago, hockey fans w...         147\n",
              "1  The writers of the HBO series The Sopranos too...         123\n",
              "2  Despite claims from the TV news outlet to offe...         706\n",
              "3  After receiving 'subpar' service and experienc...         706\n",
              "4  After watching his beloved Seattle Mariners pr...         174"
            ]
          },
          "execution_count": 10,
          "metadata": {},
          "output_type": "execute_result"
        }
      ],
      "source": [
        "#Word count\n",
        "train['word_count'] = train['Text'].apply(lambda x: len(str(x).split(\" \")))\n",
        "train[['Text', 'word_count']].head()"
      ]
    },
    {
      "cell_type": "code",
      "execution_count": null,
      "metadata": {
        "colab": {
          "base_uri": "https://localhost:8080/",
          "height": 206
        },
        "id": "T6_v5bjHXD6j",
        "outputId": "51c3f456-dc83-4717-db60-1916e95a744d"
      },
      "outputs": [
        {
          "data": {
            "text/html": [
              "<div>\n",
              "<style scoped>\n",
              "    .dataframe tbody tr th:only-of-type {\n",
              "        vertical-align: middle;\n",
              "    }\n",
              "\n",
              "    .dataframe tbody tr th {\n",
              "        vertical-align: top;\n",
              "    }\n",
              "\n",
              "    .dataframe thead th {\n",
              "        text-align: right;\n",
              "    }\n",
              "</style>\n",
              "<table border=\"1\" class=\"dataframe\">\n",
              "  <thead>\n",
              "    <tr style=\"text-align: right;\">\n",
              "      <th></th>\n",
              "      <th>Text</th>\n",
              "      <th>char_count</th>\n",
              "    </tr>\n",
              "  </thead>\n",
              "  <tbody>\n",
              "    <tr>\n",
              "      <th>0</th>\n",
              "      <td>A little less than a decade ago, hockey fans w...</td>\n",
              "      <td>873</td>\n",
              "    </tr>\n",
              "    <tr>\n",
              "      <th>1</th>\n",
              "      <td>The writers of the HBO series The Sopranos too...</td>\n",
              "      <td>715</td>\n",
              "    </tr>\n",
              "    <tr>\n",
              "      <th>2</th>\n",
              "      <td>Despite claims from the TV news outlet to offe...</td>\n",
              "      <td>4443</td>\n",
              "    </tr>\n",
              "    <tr>\n",
              "      <th>3</th>\n",
              "      <td>After receiving 'subpar' service and experienc...</td>\n",
              "      <td>3913</td>\n",
              "    </tr>\n",
              "    <tr>\n",
              "      <th>4</th>\n",
              "      <td>After watching his beloved Seattle Mariners pr...</td>\n",
              "      <td>1058</td>\n",
              "    </tr>\n",
              "  </tbody>\n",
              "</table>\n",
              "</div>"
            ],
            "text/plain": [
              "                                                Text  char_count\n",
              "0  A little less than a decade ago, hockey fans w...         873\n",
              "1  The writers of the HBO series The Sopranos too...         715\n",
              "2  Despite claims from the TV news outlet to offe...        4443\n",
              "3  After receiving 'subpar' service and experienc...        3913\n",
              "4  After watching his beloved Seattle Mariners pr...        1058"
            ]
          },
          "execution_count": 11,
          "metadata": {},
          "output_type": "execute_result"
        }
      ],
      "source": [
        "#Char count\n",
        "train['char_count'] = train['Text'].str.len()\n",
        "train[['Text','char_count']].head()"
      ]
    },
    {
      "cell_type": "code",
      "execution_count": null,
      "metadata": {
        "colab": {
          "base_uri": "https://localhost:8080/",
          "height": 206
        },
        "id": "835HTQdTXR9U",
        "outputId": "11d68766-d655-4c5a-c26e-73af07398857"
      },
      "outputs": [
        {
          "data": {
            "text/html": [
              "<div>\n",
              "<style scoped>\n",
              "    .dataframe tbody tr th:only-of-type {\n",
              "        vertical-align: middle;\n",
              "    }\n",
              "\n",
              "    .dataframe tbody tr th {\n",
              "        vertical-align: top;\n",
              "    }\n",
              "\n",
              "    .dataframe thead th {\n",
              "        text-align: right;\n",
              "    }\n",
              "</style>\n",
              "<table border=\"1\" class=\"dataframe\">\n",
              "  <thead>\n",
              "    <tr style=\"text-align: right;\">\n",
              "      <th></th>\n",
              "      <th>Text</th>\n",
              "      <th>avg_word</th>\n",
              "    </tr>\n",
              "  </thead>\n",
              "  <tbody>\n",
              "    <tr>\n",
              "      <th>0</th>\n",
              "      <td>A little less than a decade ago, hockey fans w...</td>\n",
              "      <td>4.979452</td>\n",
              "    </tr>\n",
              "    <tr>\n",
              "      <th>1</th>\n",
              "      <td>The writers of the HBO series The Sopranos too...</td>\n",
              "      <td>4.860656</td>\n",
              "    </tr>\n",
              "    <tr>\n",
              "      <th>2</th>\n",
              "      <td>Despite claims from the TV news outlet to offe...</td>\n",
              "      <td>5.302128</td>\n",
              "    </tr>\n",
              "    <tr>\n",
              "      <th>3</th>\n",
              "      <td>After receiving 'subpar' service and experienc...</td>\n",
              "      <td>4.550355</td>\n",
              "    </tr>\n",
              "    <tr>\n",
              "      <th>4</th>\n",
              "      <td>After watching his beloved Seattle Mariners pr...</td>\n",
              "      <td>5.115607</td>\n",
              "    </tr>\n",
              "  </tbody>\n",
              "</table>\n",
              "</div>"
            ],
            "text/plain": [
              "                                                Text  avg_word\n",
              "0  A little less than a decade ago, hockey fans w...  4.979452\n",
              "1  The writers of the HBO series The Sopranos too...  4.860656\n",
              "2  Despite claims from the TV news outlet to offe...  5.302128\n",
              "3  After receiving 'subpar' service and experienc...  4.550355\n",
              "4  After watching his beloved Seattle Mariners pr...  5.115607"
            ]
          },
          "execution_count": 12,
          "metadata": {},
          "output_type": "execute_result"
        }
      ],
      "source": [
        "#Average word length\n",
        "\n",
        "def avg_word(sentence):\n",
        "    words=sentence.split()\n",
        "    return (sum(len(word) for word in words)/len(words))\n",
        "\n",
        "train['avg_word'] = train['Text'].apply(lambda x:avg_word(x))\n",
        "train[['Text','avg_word']].head()"
      ]
    },
    {
      "cell_type": "code",
      "execution_count": null,
      "metadata": {
        "colab": {
          "base_uri": "https://localhost:8080/",
          "height": 242
        },
        "id": "IRyGTsYzYT1l",
        "outputId": "5d632949-e1d0-4d26-a0f7-9beaee43c872"
      },
      "outputs": [
        {
          "name": "stderr",
          "output_type": "stream",
          "text": [
            "[nltk_data] Downloading package stopwords to\n",
            "[nltk_data]     C:\\Users\\Danny\\AppData\\Roaming\\nltk_data...\n",
            "[nltk_data]   Package stopwords is already up-to-date!\n"
          ]
        },
        {
          "data": {
            "text/html": [
              "<div>\n",
              "<style scoped>\n",
              "    .dataframe tbody tr th:only-of-type {\n",
              "        vertical-align: middle;\n",
              "    }\n",
              "\n",
              "    .dataframe tbody tr th {\n",
              "        vertical-align: top;\n",
              "    }\n",
              "\n",
              "    .dataframe thead th {\n",
              "        text-align: right;\n",
              "    }\n",
              "</style>\n",
              "<table border=\"1\" class=\"dataframe\">\n",
              "  <thead>\n",
              "    <tr style=\"text-align: right;\">\n",
              "      <th></th>\n",
              "      <th>Text</th>\n",
              "      <th>stopwords</th>\n",
              "    </tr>\n",
              "  </thead>\n",
              "  <tbody>\n",
              "    <tr>\n",
              "      <th>0</th>\n",
              "      <td>A little less than a decade ago, hockey fans w...</td>\n",
              "      <td>46</td>\n",
              "    </tr>\n",
              "    <tr>\n",
              "      <th>1</th>\n",
              "      <td>The writers of the HBO series The Sopranos too...</td>\n",
              "      <td>43</td>\n",
              "    </tr>\n",
              "    <tr>\n",
              "      <th>2</th>\n",
              "      <td>Despite claims from the TV news outlet to offe...</td>\n",
              "      <td>219</td>\n",
              "    </tr>\n",
              "    <tr>\n",
              "      <th>3</th>\n",
              "      <td>After receiving 'subpar' service and experienc...</td>\n",
              "      <td>299</td>\n",
              "    </tr>\n",
              "    <tr>\n",
              "      <th>4</th>\n",
              "      <td>After watching his beloved Seattle Mariners pr...</td>\n",
              "      <td>59</td>\n",
              "    </tr>\n",
              "  </tbody>\n",
              "</table>\n",
              "</div>"
            ],
            "text/plain": [
              "                                                Text  stopwords\n",
              "0  A little less than a decade ago, hockey fans w...         46\n",
              "1  The writers of the HBO series The Sopranos too...         43\n",
              "2  Despite claims from the TV news outlet to offe...        219\n",
              "3  After receiving 'subpar' service and experienc...        299\n",
              "4  After watching his beloved Seattle Mariners pr...         59"
            ]
          },
          "execution_count": 13,
          "metadata": {},
          "output_type": "execute_result"
        }
      ],
      "source": [
        "# The number of stop words\n",
        "from nltk.corpus import stopwords\n",
        "import nltk\n",
        "nltk.download('stopwords')\n",
        "stop=stopwords.words('english')\n",
        "train['stopwords']=train['Text'].apply(lambda sen:len([x for x in sen.split() if x in stop]))\n",
        "train[['Text','stopwords']].head()"
      ]
    },
    {
      "cell_type": "code",
      "execution_count": null,
      "metadata": {
        "colab": {
          "base_uri": "https://localhost:8080/",
          "height": 206
        },
        "id": "p6SIcXEZYwOu",
        "outputId": "12d43309-ae9d-4087-bc87-1d8e8f7c6b13"
      },
      "outputs": [
        {
          "data": {
            "text/html": [
              "<div>\n",
              "<style scoped>\n",
              "    .dataframe tbody tr th:only-of-type {\n",
              "        vertical-align: middle;\n",
              "    }\n",
              "\n",
              "    .dataframe tbody tr th {\n",
              "        vertical-align: top;\n",
              "    }\n",
              "\n",
              "    .dataframe thead th {\n",
              "        text-align: right;\n",
              "    }\n",
              "</style>\n",
              "<table border=\"1\" class=\"dataframe\">\n",
              "  <thead>\n",
              "    <tr style=\"text-align: right;\">\n",
              "      <th></th>\n",
              "      <th>Text</th>\n",
              "      <th>hashtags</th>\n",
              "    </tr>\n",
              "  </thead>\n",
              "  <tbody>\n",
              "    <tr>\n",
              "      <th>0</th>\n",
              "      <td>A little less than a decade ago, hockey fans w...</td>\n",
              "      <td>0</td>\n",
              "    </tr>\n",
              "    <tr>\n",
              "      <th>1</th>\n",
              "      <td>The writers of the HBO series The Sopranos too...</td>\n",
              "      <td>0</td>\n",
              "    </tr>\n",
              "    <tr>\n",
              "      <th>2</th>\n",
              "      <td>Despite claims from the TV news outlet to offe...</td>\n",
              "      <td>0</td>\n",
              "    </tr>\n",
              "    <tr>\n",
              "      <th>3</th>\n",
              "      <td>After receiving 'subpar' service and experienc...</td>\n",
              "      <td>0</td>\n",
              "    </tr>\n",
              "    <tr>\n",
              "      <th>4</th>\n",
              "      <td>After watching his beloved Seattle Mariners pr...</td>\n",
              "      <td>0</td>\n",
              "    </tr>\n",
              "  </tbody>\n",
              "</table>\n",
              "</div>"
            ],
            "text/plain": [
              "                                                Text  hashtags\n",
              "0  A little less than a decade ago, hockey fans w...         0\n",
              "1  The writers of the HBO series The Sopranos too...         0\n",
              "2  Despite claims from the TV news outlet to offe...         0\n",
              "3  After receiving 'subpar' service and experienc...         0\n",
              "4  After watching his beloved Seattle Mariners pr...         0"
            ]
          },
          "execution_count": 14,
          "metadata": {},
          "output_type": "execute_result"
        }
      ],
      "source": [
        "#The number of special chars\n",
        "train['hashtags']=train['Text'].apply(lambda sen:len([x for x in sen.split() if x.startswith(\"#\")]))\n",
        "train[['Text','hashtags']].head()"
      ]
    },
    {
      "cell_type": "code",
      "execution_count": null,
      "metadata": {
        "colab": {
          "base_uri": "https://localhost:8080/",
          "height": 206
        },
        "id": "SN47R858Y7RJ",
        "outputId": "8b8d8ef5-650f-46dd-9854-50049f41b091"
      },
      "outputs": [
        {
          "data": {
            "text/html": [
              "<div>\n",
              "<style scoped>\n",
              "    .dataframe tbody tr th:only-of-type {\n",
              "        vertical-align: middle;\n",
              "    }\n",
              "\n",
              "    .dataframe tbody tr th {\n",
              "        vertical-align: top;\n",
              "    }\n",
              "\n",
              "    .dataframe thead th {\n",
              "        text-align: right;\n",
              "    }\n",
              "</style>\n",
              "<table border=\"1\" class=\"dataframe\">\n",
              "  <thead>\n",
              "    <tr style=\"text-align: right;\">\n",
              "      <th></th>\n",
              "      <th>Text</th>\n",
              "      <th>numerics</th>\n",
              "    </tr>\n",
              "  </thead>\n",
              "  <tbody>\n",
              "    <tr>\n",
              "      <th>0</th>\n",
              "      <td>A little less than a decade ago, hockey fans w...</td>\n",
              "      <td>0</td>\n",
              "    </tr>\n",
              "    <tr>\n",
              "      <th>1</th>\n",
              "      <td>The writers of the HBO series The Sopranos too...</td>\n",
              "      <td>1</td>\n",
              "    </tr>\n",
              "    <tr>\n",
              "      <th>2</th>\n",
              "      <td>Despite claims from the TV news outlet to offe...</td>\n",
              "      <td>20</td>\n",
              "    </tr>\n",
              "    <tr>\n",
              "      <th>3</th>\n",
              "      <td>After receiving 'subpar' service and experienc...</td>\n",
              "      <td>5</td>\n",
              "    </tr>\n",
              "    <tr>\n",
              "      <th>4</th>\n",
              "      <td>After watching his beloved Seattle Mariners pr...</td>\n",
              "      <td>0</td>\n",
              "    </tr>\n",
              "  </tbody>\n",
              "</table>\n",
              "</div>"
            ],
            "text/plain": [
              "                                                Text  numerics\n",
              "0  A little less than a decade ago, hockey fans w...         0\n",
              "1  The writers of the HBO series The Sopranos too...         1\n",
              "2  Despite claims from the TV news outlet to offe...        20\n",
              "3  After receiving 'subpar' service and experienc...         5\n",
              "4  After watching his beloved Seattle Mariners pr...         0"
            ]
          },
          "execution_count": 15,
          "metadata": {},
          "output_type": "execute_result"
        }
      ],
      "source": [
        "#The number of numerics\n",
        "train['numerics']=train['Text'].apply(lambda sen:len([x for x in sen.split() if x.isdigit()]))\n",
        "train[['Text','numerics']].head()"
      ]
    },
    {
      "cell_type": "code",
      "execution_count": null,
      "metadata": {
        "colab": {
          "base_uri": "https://localhost:8080/",
          "height": 206
        },
        "id": "VhCbRDwlZACg",
        "outputId": "bd1ec810-0b91-47cf-9110-c308d84a1a23"
      },
      "outputs": [
        {
          "data": {
            "text/html": [
              "<div>\n",
              "<style scoped>\n",
              "    .dataframe tbody tr th:only-of-type {\n",
              "        vertical-align: middle;\n",
              "    }\n",
              "\n",
              "    .dataframe tbody tr th {\n",
              "        vertical-align: top;\n",
              "    }\n",
              "\n",
              "    .dataframe thead th {\n",
              "        text-align: right;\n",
              "    }\n",
              "</style>\n",
              "<table border=\"1\" class=\"dataframe\">\n",
              "  <thead>\n",
              "    <tr style=\"text-align: right;\">\n",
              "      <th></th>\n",
              "      <th>Text</th>\n",
              "      <th>upper</th>\n",
              "    </tr>\n",
              "  </thead>\n",
              "  <tbody>\n",
              "    <tr>\n",
              "      <th>0</th>\n",
              "      <td>A little less than a decade ago, hockey fans w...</td>\n",
              "      <td>4</td>\n",
              "    </tr>\n",
              "    <tr>\n",
              "      <th>1</th>\n",
              "      <td>The writers of the HBO series The Sopranos too...</td>\n",
              "      <td>2</td>\n",
              "    </tr>\n",
              "    <tr>\n",
              "      <th>2</th>\n",
              "      <td>Despite claims from the TV news outlet to offe...</td>\n",
              "      <td>9</td>\n",
              "    </tr>\n",
              "    <tr>\n",
              "      <th>3</th>\n",
              "      <td>After receiving 'subpar' service and experienc...</td>\n",
              "      <td>13</td>\n",
              "    </tr>\n",
              "    <tr>\n",
              "      <th>4</th>\n",
              "      <td>After watching his beloved Seattle Mariners pr...</td>\n",
              "      <td>3</td>\n",
              "    </tr>\n",
              "  </tbody>\n",
              "</table>\n",
              "</div>"
            ],
            "text/plain": [
              "                                                Text  upper\n",
              "0  A little less than a decade ago, hockey fans w...      4\n",
              "1  The writers of the HBO series The Sopranos too...      2\n",
              "2  Despite claims from the TV news outlet to offe...      9\n",
              "3  After receiving 'subpar' service and experienc...     13\n",
              "4  After watching his beloved Seattle Mariners pr...      3"
            ]
          },
          "execution_count": 16,
          "metadata": {},
          "output_type": "execute_result"
        }
      ],
      "source": [
        "#The number of upper vocab\n",
        "train['upper']=train['Text'].apply(lambda sen:len([x for x in sen.split() if x.isupper()]))\n",
        "train[['Text','upper']].head()"
      ]
    },
    {
      "cell_type": "code",
      "execution_count": null,
      "metadata": {
        "colab": {
          "base_uri": "https://localhost:8080/",
          "height": 206
        },
        "id": "Vb5LV3bwZGxc",
        "outputId": "0c05cc78-539c-485a-976f-b3f3d0bb100f"
      },
      "outputs": [
        {
          "data": {
            "text/html": [
              "<div>\n",
              "<style scoped>\n",
              "    .dataframe tbody tr th:only-of-type {\n",
              "        vertical-align: middle;\n",
              "    }\n",
              "\n",
              "    .dataframe tbody tr th {\n",
              "        vertical-align: top;\n",
              "    }\n",
              "\n",
              "    .dataframe thead th {\n",
              "        text-align: right;\n",
              "    }\n",
              "</style>\n",
              "<table border=\"1\" class=\"dataframe\">\n",
              "  <thead>\n",
              "    <tr style=\"text-align: right;\">\n",
              "      <th></th>\n",
              "      <th>Verdict</th>\n",
              "      <th>Text</th>\n",
              "      <th>word_count</th>\n",
              "      <th>char_count</th>\n",
              "      <th>avg_word</th>\n",
              "      <th>stopwords</th>\n",
              "      <th>hashtags</th>\n",
              "      <th>numerics</th>\n",
              "      <th>upper</th>\n",
              "    </tr>\n",
              "  </thead>\n",
              "  <tbody>\n",
              "    <tr>\n",
              "      <th>0</th>\n",
              "      <td>1</td>\n",
              "      <td>A little less than a decade ago, hockey fans w...</td>\n",
              "      <td>147</td>\n",
              "      <td>873</td>\n",
              "      <td>4.979452</td>\n",
              "      <td>46</td>\n",
              "      <td>0</td>\n",
              "      <td>0</td>\n",
              "      <td>4</td>\n",
              "    </tr>\n",
              "    <tr>\n",
              "      <th>1</th>\n",
              "      <td>1</td>\n",
              "      <td>The writers of the HBO series The Sopranos too...</td>\n",
              "      <td>123</td>\n",
              "      <td>715</td>\n",
              "      <td>4.860656</td>\n",
              "      <td>43</td>\n",
              "      <td>0</td>\n",
              "      <td>1</td>\n",
              "      <td>2</td>\n",
              "    </tr>\n",
              "    <tr>\n",
              "      <th>2</th>\n",
              "      <td>1</td>\n",
              "      <td>Despite claims from the TV news outlet to offe...</td>\n",
              "      <td>706</td>\n",
              "      <td>4443</td>\n",
              "      <td>5.302128</td>\n",
              "      <td>219</td>\n",
              "      <td>0</td>\n",
              "      <td>20</td>\n",
              "      <td>9</td>\n",
              "    </tr>\n",
              "    <tr>\n",
              "      <th>3</th>\n",
              "      <td>1</td>\n",
              "      <td>After receiving 'subpar' service and experienc...</td>\n",
              "      <td>706</td>\n",
              "      <td>3913</td>\n",
              "      <td>4.550355</td>\n",
              "      <td>299</td>\n",
              "      <td>0</td>\n",
              "      <td>5</td>\n",
              "      <td>13</td>\n",
              "    </tr>\n",
              "    <tr>\n",
              "      <th>4</th>\n",
              "      <td>1</td>\n",
              "      <td>After watching his beloved Seattle Mariners pr...</td>\n",
              "      <td>174</td>\n",
              "      <td>1058</td>\n",
              "      <td>5.115607</td>\n",
              "      <td>59</td>\n",
              "      <td>0</td>\n",
              "      <td>0</td>\n",
              "      <td>3</td>\n",
              "    </tr>\n",
              "  </tbody>\n",
              "</table>\n",
              "</div>"
            ],
            "text/plain": [
              "   Verdict                                               Text  word_count  \\\n",
              "0        1  A little less than a decade ago, hockey fans w...         147   \n",
              "1        1  The writers of the HBO series The Sopranos too...         123   \n",
              "2        1  Despite claims from the TV news outlet to offe...         706   \n",
              "3        1  After receiving 'subpar' service and experienc...         706   \n",
              "4        1  After watching his beloved Seattle Mariners pr...         174   \n",
              "\n",
              "   char_count  avg_word  stopwords  hashtags  numerics  upper  \n",
              "0         873  4.979452         46         0         0      4  \n",
              "1         715  4.860656         43         0         1      2  \n",
              "2        4443  5.302128        219         0        20      9  \n",
              "3        3913  4.550355        299         0         5     13  \n",
              "4        1058  5.115607         59         0         0      3  "
            ]
          },
          "execution_count": 17,
          "metadata": {},
          "output_type": "execute_result"
        }
      ],
      "source": [
        "train.head()"
      ]
    },
    {
      "cell_type": "markdown",
      "metadata": {
        "id": "2RHg0YZFZPGD"
      },
      "source": [
        "## 3. Preprocessing for Text"
      ]
    },
    {
      "cell_type": "code",
      "execution_count": null,
      "metadata": {
        "colab": {
          "base_uri": "https://localhost:8080/"
        },
        "id": "hFTwy0bKZSlm",
        "outputId": "259250f0-ea9d-4d83-b162-63d46e69bfa6"
      },
      "outputs": [
        {
          "data": {
            "text/plain": [
              "0    When so many actors seem content to churn out ...\n",
              "1     In what football insiders are calling an unex...\n",
              "2    In a freak accident following Game 3 of the N....\n",
              "3    North Koreas official news agency announced to...\n",
              "4    The former Alaska Governor Sarah Palin would b...\n",
              "Name: Text, dtype: object"
            ]
          },
          "execution_count": 18,
          "metadata": {},
          "output_type": "execute_result"
        }
      ],
      "source": [
        "#Delete HTML\n",
        "from bs4 import BeautifulSoup\n",
        "train['Text'] = train['Text'].apply(lambda x: BeautifulSoup(x,'html.parser').get_text())\n",
        "test['Text'] = test['Text'].apply(lambda x: BeautifulSoup(x,'html.parser').get_text())\n",
        "test['Text'].head()"
      ]
    },
    {
      "cell_type": "code",
      "execution_count": null,
      "metadata": {
        "id": "Je-tySnk9Ytl"
      },
      "outputs": [],
      "source": [
        "#Remove emoji\n",
        "def remove_emoji(text):\n",
        "    emoji_pattern = re.compile(\"[\"\n",
        "                           u\"\\U0001F600-\\U0001F64F\"  # emoticons\n",
        "                           u\"\\U0001F300-\\U0001F5FF\"  # symbols & pictographs\n",
        "                           u\"\\U0001F680-\\U0001F6FF\"  # transport & map symbols\n",
        "                           u\"\\U0001F1E0-\\U0001F1FF\"  # flags (iOS)\n",
        "                           u\"\\U00002702-\\U000027B0\"\n",
        "                           u\"\\U000024C2-\\U0001F251\"\n",
        "                           \"]+\", flags=re.UNICODE)\n",
        "    return emoji_pattern.sub(r'', text)\n",
        "train['Text']=train['Text'].apply(lambda x: remove_emoji(x))\n",
        "test['Text']=test['Text'].apply(lambda x: remove_emoji(x))"
      ]
    },
    {
      "cell_type": "code",
      "execution_count": null,
      "metadata": {
        "colab": {
          "base_uri": "https://localhost:8080/"
        },
        "id": "HnuJkkTQaPYS",
        "outputId": "c79514ad-46fe-44cc-c5d0-f1f33a199598"
      },
      "outputs": [
        {
          "data": {
            "text/plain": [
              "0    when so many actors seem content to churn out ...\n",
              "1     in what football insiders are calling an unex...\n",
              "2    in a freak accident following game 3 of the n....\n",
              "3    north koreas official news agency announced to...\n",
              "4    the former alaska governor sarah palin would b...\n",
              "Name: Text, dtype: object"
            ]
          },
          "execution_count": 20,
          "metadata": {},
          "output_type": "execute_result"
        }
      ],
      "source": [
        "#Transform to lower letter\n",
        "train['Text'] = train['Text'].apply(lambda x: x.lower())\n",
        "test['Text'] = test['Text'].apply(lambda x: x.lower())\n",
        "test['Text'].head()"
      ]
    },
    {
      "cell_type": "code",
      "execution_count": null,
      "metadata": {
        "colab": {
          "base_uri": "https://localhost:8080/"
        },
        "id": "VMYg-dlQrRGy",
        "outputId": "568dc9a8-c6a9-42b7-9a27-667f29af4390"
      },
      "outputs": [
        {
          "data": {
            "text/plain": [
              "0    when so many actors seem content to churn out ...\n",
              "1     in what football insiders are calling an unex...\n",
              "2    in a freak accident following game 3 of the nb...\n",
              "3    north koreas official news agency announced to...\n",
              "4    the former alaska governor sarah palin would b...\n",
              "Name: Text, dtype: object"
            ]
          },
          "execution_count": 21,
          "metadata": {},
          "output_type": "execute_result"
        }
      ],
      "source": [
        "#Remove punctuation\n",
        "import re\n",
        "train['Text'] = train['Text'].apply(lambda x: re.sub(r'[^\\w\\s]', '', x))\n",
        "test['Text'] = test['Text'].apply(lambda x: re.sub(r'[^\\w\\s]', '', x))\n",
        "test['Text'].head()"
      ]
    },
    {
      "cell_type": "code",
      "execution_count": null,
      "metadata": {
        "colab": {
          "base_uri": "https://localhost:8080/"
        },
        "id": "9jNN93tCrfyL",
        "outputId": "a5f85758-05ec-46fc-d88e-265c0fda6198"
      },
      "outputs": [
        {
          "data": {
            "text/plain": [
              "0    when so many actors seem content to churn out ...\n",
              "1     in what football insiders are calling an unex...\n",
              "2    in a freak accident following game 3 of the nb...\n",
              "3    north koreas official news agency announced to...\n",
              "4    the former alaska governor sarah palin would b...\n",
              "Name: Text, dtype: object"
            ]
          },
          "execution_count": 22,
          "metadata": {},
          "output_type": "execute_result"
        }
      ],
      "source": [
        "#Substitute number\n",
        "import inflect\n",
        "def to_digit(digit):\n",
        "    i = inflect.engine()\n",
        "    if digit.isdigit():\n",
        "        output = i.number_to_words(digit)\n",
        "    else:\n",
        "        output = digit\n",
        "    return output\n",
        "train['Text'] = train['Text'].apply(lambda x: to_digit(x))\n",
        "test['Text'] = test['Text'].apply(lambda x: to_digit(x))\n",
        "test['Text'].head()"
      ]
    },
    {
      "cell_type": "code",
      "execution_count": null,
      "metadata": {
        "colab": {
          "base_uri": "https://localhost:8080/"
        },
        "id": "sidZqXeGr2sW",
        "outputId": "977eff8d-f161-4b25-beaa-740de8429823"
      },
      "outputs": [
        {
          "data": {
            "text/plain": [
              "0    many actors seem content churn performances qu...\n",
              "1    football insiders calling unexpectedly severe ...\n",
              "2    freak accident following game 3 nba finals cle...\n",
              "3    north koreas official news agency announced to...\n",
              "4    former alaska governor sarah palin would bring...\n",
              "Name: Text, dtype: object"
            ]
          },
          "execution_count": 23,
          "metadata": {},
          "output_type": "execute_result"
        }
      ],
      "source": [
        "#Remove the stopwords\n",
        "from nltk.corpus import stopwords\n",
        "stop=stopwords.words('english')\n",
        "train['Text']=train['Text'].apply(lambda sen:\" \".join(x for x in sen.split() if x not in stop))\n",
        "test['Text']=test['Text'].apply(lambda sen:\" \".join(x for x in sen.split() if x not in stop))\n",
        "test['Text'].head()"
      ]
    },
    {
      "cell_type": "code",
      "execution_count": null,
      "metadata": {
        "colab": {
          "base_uri": "https://localhost:8080/"
        },
        "id": "mBKk-On-sCs4",
        "outputId": "1fc7dbda-0301-405f-8474-2cd064f8f0aa"
      },
      "outputs": [
        {
          "data": {
            "text/plain": [
              "0    many actors seem content churn performances qu...\n",
              "1    football insiders calling unexpectedly severe ...\n",
              "2    freak accident following game 3 nba finals cle...\n",
              "3    north koreas official news agency announced to...\n",
              "4    former alaska governor sarah palin bring muchn...\n",
              "Name: Text, dtype: object"
            ]
          },
          "execution_count": 24,
          "metadata": {},
          "output_type": "execute_result"
        }
      ],
      "source": [
        "#Remove the frequency words\n",
        "freq=pd.Series(' '.join(train['Text']).split()).value_counts()[:10]\n",
        "freq=list(freq.index)\n",
        "train['Text']=train['Text'].apply(lambda sen:' '.join(x for x in sen.split() if x not in freq))\n",
        "test['Text']=test['Text'].apply(lambda sen:' '.join(x for x in sen.split() if x not in freq))\n",
        "test['Text'].head()"
      ]
    },
    {
      "cell_type": "code",
      "execution_count": null,
      "metadata": {
        "colab": {
          "base_uri": "https://localhost:8080/"
        },
        "id": "72TJWeU2sVO6",
        "outputId": "227dceaa-9f9b-4792-9aa1-d3d2b16b1d6a"
      },
      "outputs": [
        {
          "data": {
            "text/plain": [
              "0    many actors seem content churn performances qu...\n",
              "1    football insiders calling unexpectedly severe ...\n",
              "2    freak accident following game 3 nba finals cle...\n",
              "3    north koreas official news agency announced to...\n",
              "4    former alaska governor sarah palin bring muchn...\n",
              "Name: Text, dtype: object"
            ]
          },
          "execution_count": 25,
          "metadata": {},
          "output_type": "execute_result"
        }
      ],
      "source": [
        "# Remove the scarce word\n",
        "freq = pd.Series(' '.join(train['Text']).split()).value_counts()[-10:]\n",
        "freq = list(freq.index)\n",
        "train['Text'] = train['Text'].apply(lambda x: \" \".join(x for x in x.split() if x not in freq))\n",
        "test['Text'] = test['Text'].apply(lambda x: \" \".join(x for x in x.split() if x not in freq))\n",
        "test['Text'].head()"
      ]
    },
    {
      "cell_type": "code",
      "execution_count": null,
      "metadata": {
        "id": "vozu1Tfrskec"
      },
      "outputs": [],
      "source": [
        "# #Correct the spelling errors\n",
        "# from textblob import TextBlob\n",
        "# train['Text'].apply(lambda x: str(TextBlob(x).correct()))\n",
        "# test['Text'].apply(lambda x: str(TextBlob(x).correct()))\n",
        "# test['Text'].head()"
      ]
    },
    {
      "cell_type": "code",
      "execution_count": null,
      "metadata": {
        "id": "Qs3qnGw_g4jI"
      },
      "outputs": [],
      "source": [
        "#Noise Removal\n",
        "def text_cleaner(text):\n",
        "    rules = [\n",
        "        {r'>\\s+': u'>'},  # remove spaces after a tag opens or closes\n",
        "        {r'\\s+': u' '},  # replace consecutive spaces\n",
        "        {r'\\s*<br\\s*/?>\\s*': u'\\n'},  # newline after a <br>\n",
        "        {r'</(div)\\s*>\\s*': u'\\n'},  # newline after </p> and </div> and <h1/>...\n",
        "        {r'</(p|h\\d)\\s*>\\s*': u'\\n\\n'},  # newline after </p> and </div> and <h1/>...\n",
        "        {r'<head>.*<\\s*(/head|body)[^>]*>': u''},  # remove <head> to </head>\n",
        "        {r'<a\\s+href=\"([^\"]+)\"[^>]*>.*</a>': r'\\1'},  # show links instead of texts\n",
        "        {r'[ \\t]*<[^<]*?/?>': u''},  # remove remaining tags\n",
        "        {r'^\\s+': u''}  # remove spaces at the beginning\n",
        "    ]\n",
        "    for rule in rules:\n",
        "      for (k, v) in rule.items():\n",
        "        regex = re.compile(k)\n",
        "        text = regex.sub(v, text)\n",
        "      text = text.rstrip()\n",
        "    return text.lower()\n",
        "\n",
        "train['Text']=train['Text'].apply(lambda x: text_cleaner(x))"
      ]
    },
    {
      "cell_type": "code",
      "execution_count": null,
      "metadata": {
        "colab": {
          "base_uri": "https://localhost:8080/"
        },
        "id": "7PAFr-C0ykyf",
        "outputId": "44a7ff6a-e2ff-4c17-803c-144da7e90511"
      },
      "outputs": [
        {
          "data": {
            "text/plain": [
              "0    mani actor seem content churn perform quick pa...\n",
              "1    footbal insid call unexpectedli sever punish n...\n",
              "2    freak accid follow game 3 nba final cleveland ...\n",
              "3    north korea offici news agenc announc today mi...\n",
              "4    former alaska governor sarah palin bring muchn...\n",
              "Name: Text, dtype: object"
            ]
          },
          "execution_count": 28,
          "metadata": {},
          "output_type": "execute_result"
        }
      ],
      "source": [
        "#Stemming\n",
        "from nltk.stem.porter import PorterStemmer\n",
        "\n",
        "ps = PorterStemmer()\n",
        "train['Text']=train['Text'].apply(lambda x:\" \".join(ps.stem(word) for word in x.split()))\n",
        "test['Text']=test['Text'].apply(lambda x:\" \".join(ps.stem(word) for word in x.split()))\n",
        "test['Text'].head()"
      ]
    },
    {
      "cell_type": "code",
      "execution_count": null,
      "metadata": {
        "colab": {
          "base_uri": "https://localhost:8080/"
        },
        "id": "BABrFujBydWX",
        "outputId": "794fce78-7cd5-44eb-8038-ebf75660d2c1"
      },
      "outputs": [
        {
          "name": "stderr",
          "output_type": "stream",
          "text": [
            "[nltk_data] Downloading package wordnet to\n",
            "[nltk_data]     C:\\Users\\Danny\\AppData\\Roaming\\nltk_data...\n",
            "[nltk_data]   Package wordnet is already up-to-date!\n"
          ]
        }
      ],
      "source": [
        "#Lemmatization\n",
        "from textblob import Word\n",
        "import nltk\n",
        "nltk.download('wordnet')\n",
        "train['Text']=train['Text'].apply(lambda x:\" \".join([Word(word).lemmatize() for word in x.split()]))\n",
        "test['Text']=test['Text'].apply(lambda x:\" \".join([Word(word).lemmatize() for word in x.split()]))"
      ]
    },
    {
      "cell_type": "code",
      "execution_count": null,
      "metadata": {
        "id": "BDqwQ7CYqRw5",
        "outputId": "f16f5b33-c0b8-4917-d7b9-5b2770221f88"
      },
      "outputs": [
        {
          "data": {
            "text/plain": [
              "0        littl le decad ago hockey fan bless slate game...\n",
              "1        writer hbo seri soprano took anoth dare storyt...\n",
              "2        despit claim tv news outlet offer nonstop news...\n",
              "3        receiv subpar servic experienc unusu long wait...\n",
              "4        watch belov seattl marin prevail san diego pad...\n",
              "                               ...                        \n",
              "48849    rule kuomintang kmt claim ownership slush fund...\n",
              "48850    taipei citi encourag rebuild lowtomidris resid...\n",
              "48851    presid yingjeou friday park built commemor jap...\n",
              "48852    famili four kill landslid nation freeway 3 las...\n",
              "48853    ministri financ make public saturday name big ...\n",
              "Name: Text, Length: 48854, dtype: object"
            ]
          },
          "execution_count": 30,
          "metadata": {},
          "output_type": "execute_result"
        }
      ],
      "source": [
        "train['Text']"
      ]
    },
    {
      "cell_type": "markdown",
      "metadata": {
        "id": "sAgk5MI1qRw5"
      },
      "source": [
        "# 4. LSTM"
      ]
    },
    {
      "cell_type": "markdown",
      "metadata": {
        "id": "H8rcWkIhqRw5"
      },
      "source": [
        "### 4.1 Word2Vec"
      ]
    },
    {
      "cell_type": "code",
      "execution_count": null,
      "metadata": {
        "id": "XkYdU_lWqRw5"
      },
      "outputs": [],
      "source": [
        "from gensim.models import Word2Vec, KeyedVectors"
      ]
    },
    {
      "cell_type": "code",
      "execution_count": null,
      "metadata": {
        "id": "wF44HScxqRw5"
      },
      "outputs": [],
      "source": [
        "import torch\n",
        "import torch.nn as nn\n",
        "import pandas as pd\n",
        "import numpy as np\n",
        "import re\n",
        "import spacy\n",
        "from collections import Counter\n",
        "from torch.utils.data import Dataset, DataLoader\n",
        "import torch.nn.functional as F\n",
        "import string\n",
        "from torch.nn.utils.rnn import pack_padded_sequence, pad_packed_sequence\n",
        "from sklearn.metrics import mean_squared_error"
      ]
    },
    {
      "cell_type": "code",
      "execution_count": null,
      "metadata": {
        "id": "OVM-JzDTqRw6"
      },
      "outputs": [],
      "source": [
        "from sklearn.model_selection import train_test_split\n",
        "X_train, X_valid, y_train, y_valid = train_test_split(list(train['Text']), list(train['Verdict']), test_size=0.2)"
      ]
    },
    {
      "cell_type": "code",
      "execution_count": null,
      "metadata": {
        "id": "eS8xZ5FDqRw6"
      },
      "outputs": [],
      "source": [
        "SIZE=20\n",
        "\n",
        "# Dimension reduce using Word2Vec from k dimensions where\n",
        "# k is number of unique words in corpus to size=30.\n",
        "model = Word2Vec([x.split(\" \") for x in X_train], size=SIZE, window=20, min_count=1, workers=30) # Train model.\n",
        "\n",
        "# only need to save this\n",
        "encoder = model.wv\n",
        "\n",
        "# memory here can be freed\n",
        "model = None"
      ]
    },
    {
      "cell_type": "code",
      "execution_count": null,
      "metadata": {
        "id": "Opc1OWP0qRw6"
      },
      "outputs": [],
      "source": [
        "def process_article(text, encoding):\n",
        "    l = [encoding[i] if i in encoding else np.zeros(SIZE) for i in text.split()]\n",
        "    return np.vstack(l)"
      ]
    },
    {
      "cell_type": "code",
      "execution_count": null,
      "metadata": {
        "id": "1WyXWcPqqRw6"
      },
      "outputs": [],
      "source": [
        "X_train = [process_article(x, encoder) for x in X_train]\n",
        "X_valid = [process_article(x, encoder) for x in X_valid]"
      ]
    },
    {
      "cell_type": "code",
      "execution_count": null,
      "metadata": {
        "id": "s4DfQfzGqRw6"
      },
      "outputs": [],
      "source": [
        "class ArticleDataset(Dataset):\n",
        "    def __init__(self, X, y):\n",
        "        self.X = X\n",
        "        self.y = torch.LongTensor(y)\n",
        "        \n",
        "    def __len__(self):\n",
        "        return len(self.y)\n",
        "    \n",
        "    def __getitem__(self, idx):\n",
        "        return torch.tensor(self.X[idx]).float(), self.y[idx] - 1"
      ]
    },
    {
      "cell_type": "code",
      "execution_count": null,
      "metadata": {
        "id": "Lqyvu3oDqRw6"
      },
      "outputs": [],
      "source": [
        "train_dataset = ArticleDataset(X_train, y_train)"
      ]
    },
    {
      "cell_type": "code",
      "execution_count": null,
      "metadata": {
        "id": "JTw4y3jYqRw6"
      },
      "outputs": [],
      "source": [
        "# to make actual batches we have to pad or truncate data somehow.\n",
        "BATCHSIZE = 1\n",
        "train_loader = DataLoader(ArticleDataset(X_train, y_train), batch_size=BATCHSIZE, shuffle=True)\n",
        "val_loader = DataLoader(ArticleDataset(X_valid, y_valid), batch_size=BATCHSIZE)"
      ]
    },
    {
      "cell_type": "code",
      "execution_count": null,
      "metadata": {
        "id": "JPHAXv8_qRw7"
      },
      "outputs": [],
      "source": [
        "# 100 = embedding dimension specified in word2vec"
      ]
    },
    {
      "cell_type": "code",
      "execution_count": null,
      "metadata": {
        "id": "YNxDY0riqRw7"
      },
      "outputs": [],
      "source": [
        "class LSTMModel(torch.nn.Module):\n",
        "    def __init__(self, n_hidden):\n",
        "        super().__init__()\n",
        "        self.dropout = nn.Dropout(0.3)\n",
        "        self.lstm = nn.LSTM(SIZE, n_hidden, batch_first=True)\n",
        "        self.fc = nn.Linear(n_hidden, 4)\n",
        "        \n",
        "        self.n_layers = 1\n",
        "        self.n_hidden = n_hidden\n",
        "        self.hidden = self.init_hidden(BATCHSIZE)\n",
        "    \n",
        "    def forward(self, x):\n",
        "        '''\n",
        "        Input here should be already preprocessed into encoded form.\n",
        "        '''    \n",
        "        self.hidden = model.init_hidden(1)\n",
        "        x = self.dropout(x)\n",
        "        o, self.hidden = self.lstm(x, self.hidden)\n",
        "        out = self.fc(self.hidden[-1])\n",
        "        return out\n",
        "    \n",
        "    def init_hidden(self, batch_size):\n",
        "        '''\n",
        "        Initialize hidden state.\n",
        "        Create two new tensors with sizes n_layers x batch_size x n_hidden,\n",
        "        initialized to zero, for hidden state and cell state of LSTM\n",
        "        Arguments:\n",
        "            batch_size: batch size, an integer\n",
        "        Returns:\n",
        "            hidden: hidden state initialized\n",
        "        '''\n",
        "        weight = next(self.parameters()).data\n",
        "        if train_on_gpu:\n",
        "            hidden = (weight.new(batch_size, self.n_layers, self.n_hidden).zero_().cuda(),\n",
        "                      weight.new(batch_size, self.n_layers, self.n_hidden).zero_().cuda())\n",
        "\n",
        "        else:\n",
        "            hidden = (weight.new(batch_size, self.n_layers, self.n_hidden).zero_(),\n",
        "                      weight.new(batch_size, self.n_layers, self.n_hidden).zero_())\n",
        "\n",
        "        return hidden"
      ]
    },
    {
      "cell_type": "code",
      "execution_count": null,
      "metadata": {
        "id": "HNMn56BDqRw7"
      },
      "outputs": [],
      "source": [
        "def count_parameters(model):\n",
        "    params = [p.numel() for p in model.parameters() if p.requires_grad]\n",
        "    for item in params:\n",
        "        print(f'{item:>8}')\n",
        "    print(f'________\\n{sum(params):>8}')"
      ]
    },
    {
      "cell_type": "code",
      "execution_count": null,
      "metadata": {
        "id": "U-agatiBqRw7"
      },
      "outputs": [],
      "source": [
        "def trainmodel(model, epochs=1, lr=0.001):\n",
        "    model.cuda()\n",
        "    parameters = filter(lambda p: p.requires_grad, model.parameters())\n",
        "    optimizer = torch.optim.Adam(parameters, lr=lr)\n",
        "    for i in range(epochs):\n",
        "        model.train()\n",
        "        sum_loss = 0.0\n",
        "        total = 0\n",
        "        for x, y in train_loader:\n",
        "            y_pred = model(x.cuda())[0]\n",
        "            optimizer.zero_grad()\n",
        "            loss = criterion(y_pred, y.cuda())\n",
        "            loss.backward()\n",
        "            optimizer.step()\n",
        "            sum_loss += loss.item()\n",
        "            total += 1\n",
        "        val_loss, val_acc, val_rmse, x = validation_metrics(model, val_loader)\n",
        "        print(\"train loss %.3f, val loss %.3f, val accuracy %.3f, and val rmse %.3f\" % (sum_loss/total, val_loss, val_acc, val_rmse))"
      ]
    },
    {
      "cell_type": "code",
      "execution_count": null,
      "metadata": {
        "id": "8Ldfyi43qRw7"
      },
      "outputs": [],
      "source": [
        "def validation_metrics(model, val_loader):\n",
        "    model.eval()\n",
        "    model.cuda()\n",
        "    correct = 0\n",
        "    total = 0\n",
        "    sum_loss = 0.0\n",
        "    sum_rmse = 0.0\n",
        "    preds = []\n",
        "    \n",
        "    for x, y in val_loader:\n",
        "        y_pred = model(x.cuda())[0]\n",
        "        y_pred = y_pred.cpu()\n",
        "        loss = criterion(y_pred, y)\n",
        "        pred = torch.max(y_pred, 1)[1]\n",
        "        preds.append(pred)\n",
        "        correct += (pred == y).float().sum()\n",
        "        total += y.shape[0]\n",
        "        sum_loss += loss.item()*y.shape[0]\n",
        "        sum_rmse += np.sqrt(mean_squared_error(pred, y.unsqueeze(-1)))*y.shape[0]\n",
        "    return sum_loss/total, correct/total, sum_rmse/total, preds"
      ]
    },
    {
      "cell_type": "code",
      "execution_count": null,
      "metadata": {
        "id": "Va-rQZfuqRw7",
        "outputId": "c142f22e-5c81-4923-91a2-e7d63b863d1c"
      },
      "outputs": [
        {
          "name": "stdout",
          "output_type": "stream",
          "text": [
            "    1600\n",
            "    1600\n",
            "      80\n",
            "      80\n",
            "      80\n",
            "       4\n",
            "________\n",
            "    3444\n"
          ]
        }
      ],
      "source": [
        "train_on_gpu = True\n",
        "model = LSTMModel(20)\n",
        "count_parameters(model)"
      ]
    },
    {
      "cell_type": "code",
      "execution_count": null,
      "metadata": {
        "id": "SpaFBHKLqRw8",
        "outputId": "25c911b1-c526-44e1-ee74-4ee95820e0b8"
      },
      "outputs": [
        {
          "name": "stdout",
          "output_type": "stream",
          "text": [
            "train loss 0.413, val loss 0.273, val accuracy 0.909, and val rmse 0.192\n"
          ]
        }
      ],
      "source": [
        "criterion = nn.CrossEntropyLoss()\n",
        "trainmodel(model)"
      ]
    },
    {
      "cell_type": "markdown",
      "metadata": {
        "id": "Qc3H22X7qRw8"
      },
      "source": [
        "### 4.2 Test"
      ]
    },
    {
      "cell_type": "code",
      "execution_count": null,
      "metadata": {
        "id": "VPiwDFAuqRw8"
      },
      "outputs": [],
      "source": [
        "test['Encoded'] = test['Text'].apply(lambda x: process_article(x, encoder))"
      ]
    },
    {
      "cell_type": "code",
      "execution_count": null,
      "metadata": {
        "id": "OU3UBwrcqRw8"
      },
      "outputs": [],
      "source": [
        "test_loader = DataLoader(ArticleDataset(test['Encoded'], test['Verdict']), batch_size=BATCHSIZE)"
      ]
    },
    {
      "cell_type": "code",
      "execution_count": null,
      "metadata": {
        "id": "a15YCyc2qRw8"
      },
      "outputs": [],
      "source": [
        "a, b, c, d = validation_metrics(model, test_loader)"
      ]
    },
    {
      "cell_type": "code",
      "execution_count": null,
      "metadata": {
        "id": "2u5D6c7tqRw8"
      },
      "outputs": [],
      "source": [
        "d = [x.item() + 1 for x in d]"
      ]
    },
    {
      "cell_type": "code",
      "execution_count": null,
      "metadata": {
        "id": "FQVrFUeIqRw8",
        "outputId": "41e72d58-e580-41f7-cdeb-a2369398a729"
      },
      "outputs": [
        {
          "data": {
            "text/plain": [
              "0       1\n",
              "1       1\n",
              "2       1\n",
              "3       1\n",
              "4       1\n",
              "       ..\n",
              "2995    4\n",
              "2996    4\n",
              "2997    4\n",
              "2998    4\n",
              "2999    4\n",
              "Name: Verdict, Length: 3000, dtype: int64"
            ]
          },
          "execution_count": 63,
          "metadata": {},
          "output_type": "execute_result"
        }
      ],
      "source": [
        "test['Verdict']"
      ]
    },
    {
      "cell_type": "code",
      "execution_count": null,
      "metadata": {
        "id": "cNiungB5qRw8"
      },
      "outputs": [],
      "source": [
        "from sklearn.metrics import precision_recall_fscore_support"
      ]
    },
    {
      "cell_type": "code",
      "execution_count": null,
      "metadata": {
        "id": "e1SNxT06qRw8"
      },
      "outputs": [],
      "source": [
        "score2 = precision_recall_fscore_support(test['Verdict'], d, average='macro')"
      ]
    },
    {
      "cell_type": "code",
      "execution_count": null,
      "metadata": {
        "id": "p1QlvUFAqRw9",
        "outputId": "9d0d658e-e7b0-471a-ee93-3c1123610f53"
      },
      "outputs": [
        {
          "data": {
            "text/plain": [
              "(0.6719366130464278, 0.673, 0.6686305300467905, None)"
            ]
          },
          "execution_count": 66,
          "metadata": {},
          "output_type": "execute_result"
        }
      ],
      "source": [
        "score2"
      ]
    }
  ],
  "metadata": {
    "colab": {
      "name": "LSTM.ipynb",
      "provenance": []
    },
    "kernelspec": {
      "display_name": "Python 3 (ipykernel)",
      "language": "python",
      "name": "python3"
    },
    "language_info": {
      "codemirror_mode": {
        "name": "ipython",
        "version": 3
      },
      "file_extension": ".py",
      "mimetype": "text/x-python",
      "name": "python",
      "nbconvert_exporter": "python",
      "pygments_lexer": "ipython3",
      "version": "3.9.7"
    }
  },
  "nbformat": 4,
  "nbformat_minor": 0
}